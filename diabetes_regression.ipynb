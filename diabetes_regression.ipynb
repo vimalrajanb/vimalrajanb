{
 "cells": [
  {
   "cell_type": "code",
   "execution_count": null,
   "id": "da789ecd-1084-4c0b-bd5b-02790a4bba6c",
   "metadata": {},
   "outputs": [],
   "source": [
    "import numpy as np\n",
    "import pandas as pd\n",
    "import matplotlib.pyplot as plt\n",
    "import tensorflow as tf\n",
    "from sklearn.model_selection import train_test_split\n",
    "import warnings\n",
    "import seaborn as sns\n",
    "from tensorflow.keras.metrics import *\n",
    "\n",
    "warnings.filterwarnings('ignore')\n",
    "\n",
    "print(tf.__version__)\n",
    "print(np.__version__)\n",
    "print(pd.__version__)"
   ]
  },
  {
   "cell_type": "code",
   "execution_count": null,
   "id": "be0cfcd8-e439-476d-8821-5b63421ad5ed",
   "metadata": {},
   "outputs": [],
   "source": [
    "data = pd.read_csv('Diabetes Classification.csv').sample(frac=1) #sample is used to gererate the random data otherwise first 5 datas is considered\n",
    "data.head()\n",
    "data.describe()\n",
    "#data.isna().sum() #the no of missing data in each column\n"
   ]
  },
  {
   "cell_type": "code",
   "execution_count": null,
   "id": "62a19aa1-10a7-43bb-831c-5fa89c8e15c2",
   "metadata": {},
   "outputs": [],
   "source": [
    "#data_preprocessing\n",
    "features = data[['Diagnosis','Chol','TG','HDL','LDL', 'Cr','BUN']]\n",
    "\n",
    "# features['Age']=features['Age'].fillna(42)\n",
    "# age2=pd.get_dummies(features['age'])\n",
    "# features=features.drop(columns=['Age','BUN']\n",
    "# features=pd.concat(['features','age2'],axis=1)\n",
    "\n",
    "#to train the data use the command\n",
    "target=data['BMI']\n",
    "\n",
    "train_size=int(0.8*len(data))\n",
    "X_train, X_test = features.values[ :train_size, :],features.values[train_size: , :]\n",
    "y_train, y_test = target.values[:train_size],target.values[train_size:]\n",
    "\n",
    "print(len(X_train))\n"
   ]
  },
  {
   "cell_type": "code",
   "execution_count": null,
   "id": "4bf55f60-196a-4f65-a0b9-6b1449c277ba",
   "metadata": {},
   "outputs": [],
   "source": [
    "sns.pairplot(features)"
   ]
  },
  {
   "cell_type": "code",
   "execution_count": null,
   "id": "0d81fcee-5dda-4b06-a8d9-fe6e08e74d63",
   "metadata": {},
   "outputs": [],
   "source": [
    "corr = features.corr()\n",
    "cmap = sns.diverging_palette(250 , 10 , as_cmap=True)\n",
    "plt.figure(figsize=(8,8))\n",
    "sns.heatmap(corr, square=True, cmap=cmap, annot=True)"
   ]
  },
  {
   "cell_type": "code",
   "execution_count": null,
   "id": "300a0475-b92d-4728-96f5-12f29b5b310b",
   "metadata": {},
   "outputs": [],
   "source": [
    "class LinearModel:\n",
    "    def __init__(self):\n",
    "        # y_pred= W x + b (y=Mx+c)\n",
    "        self.initializer = tf.keras.initializers.GlorotUniform()\n",
    "        \n",
    "        #self.W= tf.Variable(13.0)\n",
    "        #self.b = tf.Variable(4.0)\n",
    "    \n",
    "    def loss(self, y, y_pred): \n",
    "        return tf.reduce_mean(tf.abs(y - y_pred))\n",
    "        \n",
    "    def train(self, X, y, lr=0.00001,epochs=20, verbose=True):\n",
    "        X = np.asarray(X, dtype=np.float32)       \n",
    "        y = np.asarray(y, dtype=np.float32).reshape((-1,1))  # [1,2,3] = [[1],[2],[3]]\n",
    "        \n",
    "        self.W = tf.Variable(\n",
    "            initial_value=self.initializer(shape=(len(X[0]),1),dtype='float32'))\n",
    "        self.b = tf.Variable(\n",
    "            initial_value=self.initializer(shape=(1,),dtype='float32'))\n",
    "\n",
    "        def train_step():\n",
    "            with tf.GradientTape() as t:\n",
    "                current_loss=self.loss(y,self.predict(X))\n",
    "            \n",
    "            dw, db = t.gradient(current_loss, [self.W, self.b])\n",
    "            self.W.assign_sub(lr * dw) # W -= Lr * dw\n",
    "            self.b.assign_sub(lr * db)\n",
    "            return current_loss\n",
    "                \n",
    "        for epoch in range(epochs):\n",
    "                current_loss = train_step()\n",
    "                if verbose:\n",
    "                    print(f'Epoch {epoch}: Loss: {current_loss.numpy()}')\n",
    "                    \n",
    "    def predict(self, X):\n",
    "        return tf.matmul(X,self.W)+self.b\n"
   ]
  },
  {
   "cell_type": "raw",
   "id": "5eb53146-ec28-4cf0-a72b-157b6909bb07",
   "metadata": {},
   "source": [
    "Multi Layer Perceptron (ANN)"
   ]
  },
  {
   "cell_type": "code",
   "execution_count": null,
   "id": "06a152d7-f041-4421-820c-7c0b6d4ad84b",
   "metadata": {},
   "outputs": [],
   "source": [
    "model=tf.keras.models.Sequential([\n",
    "    tf.keras.layers.Dense(128, activation='relu'), #activation functions are non-linear operations that act on tensors , Relu - rectified linear unit\n",
    "    tf.keras.layers.Dropout(0.2),\n",
    "    tf.keras.layers.Dense(1) #for regression model\n",
    "])    \n",
    "    "
   ]
  },
  {
   "cell_type": "code",
   "execution_count": null,
   "id": "b505a52b-d077-4c8a-8e4d-92874f35c842",
   "metadata": {},
   "outputs": [],
   "source": [
    "model = LinearModel()\n",
    "model.train(X_train,y_train, epochs =130)"
   ]
  },
  {
   "cell_type": "code",
   "execution_count": null,
   "id": "f57b605b-a3a6-4672-a76a-7dd23e757dc2",
   "metadata": {},
   "outputs": [],
   "source": [
    "#equal to def train() function in linear model\n",
    "\n",
    "sgd_optimizer = tf.keras.optimizers.SGD()  #Stochastic gradient descent (SGD) optimiser\n",
    "loss_fn= tf.keras.losses.MAE\n",
    "model.compile(\n",
    "    optimizer=sgd_optimizer,\n",
    "    loss=loss_fn,\n",
    "    metrics=[tf.keras.metrics.MAE]\n",
    ")\n",
    "    "
   ]
  },
  {
   "cell_type": "code",
   "execution_count": null,
   "id": "d8282cdc-61e0-4c11-9a74-51ec718bb5bc",
   "metadata": {},
   "outputs": [],
   "source": [
    "#equals to def train() function in linear model\n",
    "\n",
    "adam_optimizer = tf.keras.optimizers.Adam()  #Adaptive Moment Estimation(Adam) optimiser is used to reduce the loss function\n",
    "loss_fn= tf.keras.losses.MAE\n",
    "model.compile(\n",
    "    optimizer=adam_optimizer,\n",
    "    loss=loss_fn,\n",
    "    metrics=[tf.keras.metrics.MAE]\n",
    ")\n",
    "\n",
    "#compare the result with the sgd optimiser, this one is providing better results\n",
    "    "
   ]
  },
  {
   "cell_type": "code",
   "execution_count": null,
   "id": "a6ee8745-18a9-4be6-8060-1932eac5275f",
   "metadata": {},
   "outputs": [],
   "source": [
    "#adam optimizer with few other metrics\n",
    "\n",
    "def R_squared(y_true,y_pred):\n",
    "    residual=tf.reduce_sum(tf.sum(y_true-y_pred))\n",
    "    total=tf.reduce_sum(tf.sum(y_true-tf.reduce_mean(y_true)))\n",
    "    r2 = 1 - residual / total\n",
    "    return r2\n",
    "\n",
    "adam_optimizer = tf.keras.optimizers.Adam()  #Adaptive Moment Estimation(Adam) optimiser is used to reduce the loss function\n",
    "loss_fn= tf.keras.losses.MAE\n",
    "model.compile(\n",
    "    optimizer=adam_optimizer,\n",
    "    loss=loss_fn,\n",
    "    metrics=[\n",
    "        tf.keras.metrics.MAE,\n",
    "        tf.keras.metrics.MSE,\n",
    "        R_squared\n",
    "    ]\n",
    ")\n"
   ]
  },
  {
   "cell_type": "code",
   "execution_count": null,
   "id": "4cafffad-537c-42b1-8245-ce8bd9a51294",
   "metadata": {},
   "outputs": [],
   "source": [
    "model.fit(X_train, y_train, epochs=10)"
   ]
  },
  {
   "cell_type": "code",
   "execution_count": null,
   "id": "c50479cb-9e18-46ed-b6de-5a64f5e9e813",
   "metadata": {},
   "outputs": [],
   "source": [
    "model.evaluate(X_test, y_test)"
   ]
  },
  {
   "cell_type": "code",
   "execution_count": null,
   "id": "0b73c426-70bd-4766-9efa-67246c77d26f",
   "metadata": {},
   "outputs": [],
   "source": []
  }
 ],
 "metadata": {
  "kernelspec": {
   "display_name": "Python 3 (ipykernel)",
   "language": "python",
   "name": "python3"
  },
  "language_info": {
   "codemirror_mode": {
    "name": "ipython",
    "version": 3
   },
   "file_extension": ".py",
   "mimetype": "text/x-python",
   "name": "python",
   "nbconvert_exporter": "python",
   "pygments_lexer": "ipython3",
   "version": "3.11.7"
  }
 },
 "nbformat": 4,
 "nbformat_minor": 5
}
